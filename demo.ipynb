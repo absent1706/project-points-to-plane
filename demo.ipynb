{
 "cells": [
  {
   "cell_type": "markdown",
   "metadata": {},
   "source": [
    "## Demonstrate module's work"
   ]
  },
  {
   "cell_type": "code",
   "execution_count": 1,
   "metadata": {},
   "outputs": [],
   "source": [
    "import numpy as np\n",
    "from projection import get_projections_to_plane, get_distances_to_plane\n",
    "\n",
    "np.set_printoptions(precision=2)"
   ]
  },
  {
   "cell_type": "code",
   "execution_count": 4,
   "metadata": {},
   "outputs": [
    {
     "name": "stdout",
     "output_type": "stream",
     "text": [
      "Initial points: \n",
      " [[-4.65  1.46  1.69]\n",
      " [ 2.08  0.81 -0.2 ]\n",
      " [-1.16 -3.15 -2.68]\n",
      " [-0.34  0.45  1.41]\n",
      " [-1.63 -0.07 -0.93]\n",
      " [ 0.54 -0.37  0.73]\n",
      " [-2.34  1.94 -0.43]\n",
      " [-1.14 -1.96 -0.21]\n",
      " [ 2.47  2.56 -1.9 ]\n",
      " [-0.15 -2.34 -2.37]]\n",
      "\n",
      "Distance to plane: \n",
      " [1.69 0.2  2.68 1.41 0.93 0.73 0.43 0.21 1.9  2.37]\n",
      "\n",
      "Projections: \n",
      " [[-4.65  1.46  0.  ]\n",
      " [ 2.08  0.81  0.  ]\n",
      " [-1.16 -3.15  0.  ]\n",
      " [-0.34  0.45  0.  ]\n",
      " [-1.63 -0.07  0.  ]\n",
      " [ 0.54 -0.37  0.  ]\n",
      " [-2.34  1.94  0.  ]\n",
      " [-1.14 -1.96  0.  ]\n",
      " [ 2.47  2.56  0.  ]\n",
      " [-0.15 -2.34  0.  ]]\n"
     ]
    }
   ],
   "source": [
    "P = np.array([0,0,0])\n",
    "N = np.array([0,0,1])\n",
    "# generate 10 normally distributed 3D points (mu=0, sigma=2)\n",
    "points = 2*np.random.randn(10,3)\n",
    "\n",
    "projections = get_projections_to_plane(P, N, points)\n",
    "distances = get_distances_to_plane(P, N, points)\n",
    "\n",
    "print('Initial points: \\n', points)\n",
    "print()\n",
    "print('Distance to plane: \\n', distances)\n",
    "print()\n",
    "print('Projections: \\n', projections)"
   ]
  },
  {
   "cell_type": "markdown",
   "metadata": {},
   "source": [
    "## Visualize"
   ]
  },
  {
   "cell_type": "code",
   "execution_count": 5,
   "metadata": {},
   "outputs": [
    {
     "data": {
      "text/html": [
       "<script type=\"text/javascript\">window.PlotlyConfig = {MathJaxConfig: 'local'};</script><script type=\"text/javascript\">if (window.MathJax) {MathJax.Hub.Config({SVG: {font: \"STIX-Web\"}});}</script><script>requirejs.config({paths: { 'plotly': ['https://cdn.plot.ly/plotly-latest.min']},});if(!window._Plotly) {require(['plotly'],function(plotly) {window._Plotly=plotly;});}</script>"
      ],
      "text/vnd.plotly.v1+html": [
       "<script type=\"text/javascript\">window.PlotlyConfig = {MathJaxConfig: 'local'};</script><script type=\"text/javascript\">if (window.MathJax) {MathJax.Hub.Config({SVG: {font: \"STIX-Web\"}});}</script><script>requirejs.config({paths: { 'plotly': ['https://cdn.plot.ly/plotly-latest.min']},});if(!window._Plotly) {require(['plotly'],function(plotly) {window._Plotly=plotly;});}</script>"
      ]
     },
     "metadata": {},
     "output_type": "display_data"
    }
   ],
   "source": [
    "import numpy as np\n",
    "from plotly.offline import init_notebook_mode, iplot\n",
    "import plotly.graph_objs as go\n",
    "\n",
    "init_notebook_mode(connected=True)"
   ]
  },
  {
   "cell_type": "code",
   "execution_count": 6,
   "metadata": {},
   "outputs": [
    {
     "data": {
      "application/vnd.plotly.v1+json": {
       "config": {
        "linkText": "Export to plot.ly",
        "plotlyServerURL": "https://plot.ly",
        "showLink": false
       },
       "data": [
        {
         "marker": {
          "opacity": 0.8,
          "size": 3
         },
         "mode": "markers",
         "type": "scatter3d",
         "uid": "66da307d-10be-4ff7-9e95-59896bc7ebd2",
         "x": [
          -4.65265073730396,
          2.083985232332185,
          -1.1589331867401544,
          -0.33518209118478104,
          -1.6346488296929167,
          0.539490779811501,
          -2.3444895698251846,
          -1.1367090003031215,
          2.465877970977777,
          -0.15056777354306294
         ],
         "y": [
          1.461232009378928,
          0.8054072109605429,
          -3.1540152169443267,
          0.44908583268300895,
          -0.07419102366100135,
          -0.37224327781064187,
          1.9368329830979265,
          -1.9623340252329913,
          2.555107174197175,
          -2.340088793226965
         ],
         "z": [
          1.6907612793440385,
          -0.20015223027464946,
          -2.6785202166739577,
          1.4126554824750117,
          -0.9299410372257694,
          0.7344258756743841,
          -0.4282898875066843,
          -0.2079285911270755,
          -1.8974733405677866,
          -2.372442164224519
         ]
        },
        {
         "marker": {
          "color": "green",
          "opacity": 0.8,
          "size": 3
         },
         "mode": "markers",
         "type": "scatter3d",
         "uid": "b9d8f195-50d0-41d1-980b-948fe5ff9400",
         "x": [
          -4.65265073730396,
          2.083985232332185,
          -1.1589331867401544,
          -0.33518209118478104,
          -1.6346488296929167,
          0.539490779811501,
          -2.3444895698251846,
          -1.1367090003031215,
          2.465877970977777,
          -0.15056777354306294
         ],
         "y": [
          1.461232009378928,
          0.8054072109605429,
          -3.1540152169443267,
          0.44908583268300895,
          -0.07419102366100135,
          -0.37224327781064187,
          1.9368329830979265,
          -1.9623340252329913,
          2.555107174197175,
          -2.340088793226965
         ],
         "z": [
          0,
          0,
          0,
          0,
          0,
          0,
          0,
          0,
          0,
          0
         ]
        },
        {
         "color": "green",
         "opacity": 0.3,
         "type": "mesh3d",
         "uid": "b0a23799-d001-4b22-8d9d-d9320794d520",
         "x": [
          -4.65265073730396,
          2.083985232332185,
          -1.1589331867401544,
          -0.33518209118478104,
          -1.6346488296929167,
          0.539490779811501,
          -2.3444895698251846,
          -1.1367090003031215,
          2.465877970977777,
          -0.15056777354306294
         ],
         "y": [
          1.461232009378928,
          0.8054072109605429,
          -3.1540152169443267,
          0.44908583268300895,
          -0.07419102366100135,
          -0.37224327781064187,
          1.9368329830979265,
          -1.9623340252329913,
          2.555107174197175,
          -2.340088793226965
         ],
         "z": [
          0,
          0,
          0,
          0,
          0,
          0,
          0,
          0,
          0,
          0
         ]
        }
       ],
       "layout": {
        "autosize": true,
        "scene": {
         "aspectmode": "auto",
         "aspectratio": {
          "x": 1.2664859247615818,
          "y": 1.0157328076390093,
          "z": 0.7773563530888283
         }
        }
       }
      },
      "text/html": [
       "<div id=\"efa4d104-9823-4d54-ad9e-d27a248a379f\" style=\"height: 525px; width: 100%;\" class=\"plotly-graph-div\"></div><script type=\"text/javascript\">require([\"plotly\"], function(Plotly) { window.PLOTLYENV=window.PLOTLYENV || {};window.PLOTLYENV.BASE_URL=\"https://plot.ly\";\n",
       "if (document.getElementById(\"efa4d104-9823-4d54-ad9e-d27a248a379f\")) {\n",
       "    Plotly.newPlot(\"efa4d104-9823-4d54-ad9e-d27a248a379f\", [{\"marker\": {\"opacity\": 0.8, \"size\": 3}, \"mode\": \"markers\", \"x\": [-4.65265073730396, 2.083985232332185, -1.1589331867401544, -0.33518209118478104, -1.6346488296929167, 0.539490779811501, -2.3444895698251846, -1.1367090003031215, 2.465877970977777, -0.15056777354306294], \"y\": [1.461232009378928, 0.8054072109605429, -3.1540152169443267, 0.44908583268300895, -0.07419102366100135, -0.37224327781064187, 1.9368329830979265, -1.9623340252329913, 2.555107174197175, -2.340088793226965], \"z\": [1.6907612793440385, -0.20015223027464946, -2.6785202166739577, 1.4126554824750117, -0.9299410372257694, 0.7344258756743841, -0.4282898875066843, -0.2079285911270755, -1.8974733405677866, -2.372442164224519], \"type\": \"scatter3d\", \"uid\": \"66da307d-10be-4ff7-9e95-59896bc7ebd2\"}, {\"marker\": {\"color\": \"green\", \"opacity\": 0.8, \"size\": 3}, \"mode\": \"markers\", \"x\": [-4.65265073730396, 2.083985232332185, -1.1589331867401544, -0.33518209118478104, -1.6346488296929167, 0.539490779811501, -2.3444895698251846, -1.1367090003031215, 2.465877970977777, -0.15056777354306294], \"y\": [1.461232009378928, 0.8054072109605429, -3.1540152169443267, 0.44908583268300895, -0.07419102366100135, -0.37224327781064187, 1.9368329830979265, -1.9623340252329913, 2.555107174197175, -2.340088793226965], \"z\": [0.0, 0.0, 0.0, 0.0, 0.0, 0.0, 0.0, 0.0, 0.0, 0.0], \"type\": \"scatter3d\", \"uid\": \"b9d8f195-50d0-41d1-980b-948fe5ff9400\"}, {\"color\": \"green\", \"opacity\": 0.3, \"x\": [-4.65265073730396, 2.083985232332185, -1.1589331867401544, -0.33518209118478104, -1.6346488296929167, 0.539490779811501, -2.3444895698251846, -1.1367090003031215, 2.465877970977777, -0.15056777354306294], \"y\": [1.461232009378928, 0.8054072109605429, -3.1540152169443267, 0.44908583268300895, -0.07419102366100135, -0.37224327781064187, 1.9368329830979265, -1.9623340252329913, 2.555107174197175, -2.340088793226965], \"z\": [0.0, 0.0, 0.0, 0.0, 0.0, 0.0, 0.0, 0.0, 0.0, 0.0], \"type\": \"mesh3d\", \"uid\": \"b0a23799-d001-4b22-8d9d-d9320794d520\"}], {}, {\"showLink\": false, \"linkText\": \"Export to plot.ly\", \"plotlyServerURL\": \"https://plot.ly\"}); \n",
       "}\n",
       "});</script><script type=\"text/javascript\">window.addEventListener(\"resize\", function(){if (document.getElementById(\"efa4d104-9823-4d54-ad9e-d27a248a379f\")) {window._Plotly.Plots.resize(document.getElementById(\"efa4d104-9823-4d54-ad9e-d27a248a379f\"));};})</script>"
      ],
      "text/vnd.plotly.v1+html": [
       "<div id=\"efa4d104-9823-4d54-ad9e-d27a248a379f\" style=\"height: 525px; width: 100%;\" class=\"plotly-graph-div\"></div><script type=\"text/javascript\">require([\"plotly\"], function(Plotly) { window.PLOTLYENV=window.PLOTLYENV || {};window.PLOTLYENV.BASE_URL=\"https://plot.ly\";\n",
       "if (document.getElementById(\"efa4d104-9823-4d54-ad9e-d27a248a379f\")) {\n",
       "    Plotly.newPlot(\"efa4d104-9823-4d54-ad9e-d27a248a379f\", [{\"marker\": {\"opacity\": 0.8, \"size\": 3}, \"mode\": \"markers\", \"x\": [-4.65265073730396, 2.083985232332185, -1.1589331867401544, -0.33518209118478104, -1.6346488296929167, 0.539490779811501, -2.3444895698251846, -1.1367090003031215, 2.465877970977777, -0.15056777354306294], \"y\": [1.461232009378928, 0.8054072109605429, -3.1540152169443267, 0.44908583268300895, -0.07419102366100135, -0.37224327781064187, 1.9368329830979265, -1.9623340252329913, 2.555107174197175, -2.340088793226965], \"z\": [1.6907612793440385, -0.20015223027464946, -2.6785202166739577, 1.4126554824750117, -0.9299410372257694, 0.7344258756743841, -0.4282898875066843, -0.2079285911270755, -1.8974733405677866, -2.372442164224519], \"type\": \"scatter3d\", \"uid\": \"66da307d-10be-4ff7-9e95-59896bc7ebd2\"}, {\"marker\": {\"color\": \"green\", \"opacity\": 0.8, \"size\": 3}, \"mode\": \"markers\", \"x\": [-4.65265073730396, 2.083985232332185, -1.1589331867401544, -0.33518209118478104, -1.6346488296929167, 0.539490779811501, -2.3444895698251846, -1.1367090003031215, 2.465877970977777, -0.15056777354306294], \"y\": [1.461232009378928, 0.8054072109605429, -3.1540152169443267, 0.44908583268300895, -0.07419102366100135, -0.37224327781064187, 1.9368329830979265, -1.9623340252329913, 2.555107174197175, -2.340088793226965], \"z\": [0.0, 0.0, 0.0, 0.0, 0.0, 0.0, 0.0, 0.0, 0.0, 0.0], \"type\": \"scatter3d\", \"uid\": \"b9d8f195-50d0-41d1-980b-948fe5ff9400\"}, {\"color\": \"green\", \"opacity\": 0.3, \"x\": [-4.65265073730396, 2.083985232332185, -1.1589331867401544, -0.33518209118478104, -1.6346488296929167, 0.539490779811501, -2.3444895698251846, -1.1367090003031215, 2.465877970977777, -0.15056777354306294], \"y\": [1.461232009378928, 0.8054072109605429, -3.1540152169443267, 0.44908583268300895, -0.07419102366100135, -0.37224327781064187, 1.9368329830979265, -1.9623340252329913, 2.555107174197175, -2.340088793226965], \"z\": [0.0, 0.0, 0.0, 0.0, 0.0, 0.0, 0.0, 0.0, 0.0, 0.0], \"type\": \"mesh3d\", \"uid\": \"b0a23799-d001-4b22-8d9d-d9320794d520\"}], {}, {\"showLink\": false, \"linkText\": \"Export to plot.ly\", \"plotlyServerURL\": \"https://plot.ly\"}); \n",
       "}\n",
       "});</script><script type=\"text/javascript\">window.addEventListener(\"resize\", function(){if (document.getElementById(\"efa4d104-9823-4d54-ad9e-d27a248a379f\")) {window._Plotly.Plots.resize(document.getElementById(\"efa4d104-9823-4d54-ad9e-d27a248a379f\"));};})</script>"
      ]
     },
     "metadata": {},
     "output_type": "display_data"
    }
   ],
   "source": [
    "trace_init_points = go.Scatter3d(\n",
    "    x=points[:,0],\n",
    "    y=points[:,1],\n",
    "    z=points[:,2],\n",
    "    mode='markers',\n",
    "    marker=dict(\n",
    "        size=3,\n",
    "        opacity=0.8\n",
    "    )\n",
    ")\n",
    "\n",
    "trace_projections = go.Scatter3d(\n",
    "     x=projections[:,0],\n",
    "     y=projections[:,1],\n",
    "     z=projections[:,2],\n",
    "     mode='markers',\n",
    "     marker=dict(\n",
    "         size=3,\n",
    "         opacity=0.8,\n",
    "         color='green'\n",
    "     )\n",
    ")\n",
    "\n",
    "trace_plane = go.Mesh3d(\n",
    "    x = projections[:,0],\n",
    "    y = projections[:,1],\n",
    "    z = projections[:,2],\n",
    "    color = 'green',\n",
    "    opacity= 0.3,\n",
    ")\n",
    "\n",
    "data = [trace_init_points, trace_projections, trace_plane]\n",
    "fig = go.Figure(data=data)\n",
    "iplot(fig)"
   ]
  }
 ],
 "metadata": {
  "kernelspec": {
   "display_name": "Python 3",
   "language": "python",
   "name": "python3"
  },
  "language_info": {
   "codemirror_mode": {
    "name": "ipython",
    "version": 3
   },
   "file_extension": ".py",
   "mimetype": "text/x-python",
   "name": "python",
   "nbconvert_exporter": "python",
   "pygments_lexer": "ipython3",
   "version": "3.6.5"
  }
 },
 "nbformat": 4,
 "nbformat_minor": 2
}
