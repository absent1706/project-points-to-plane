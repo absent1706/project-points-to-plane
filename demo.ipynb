{
 "cells": [
  {
   "cell_type": "markdown",
   "metadata": {},
   "source": [
    "## Demonstrate module's work"
   ]
  },
  {
   "cell_type": "code",
   "execution_count": 7,
   "metadata": {},
   "outputs": [],
   "source": [
    "import numpy as np\n",
    "from projection import get_projections\n",
    "\n",
    "np.set_printoptions(precision=2)"
   ]
  },
  {
   "cell_type": "code",
   "execution_count": 15,
   "metadata": {},
   "outputs": [
    {
     "name": "stdout",
     "output_type": "stream",
     "text": [
      "Initial points: \n",
      " [[ 1.12  1.   -1.21]\n",
      " [-1.   -1.48 -3.01]\n",
      " [-2.68  1.85  1.27]\n",
      " [-0.32 -1.2  -1.47]\n",
      " [ 0.96  0.86  2.31]\n",
      " [-1.28  1.14  0.43]\n",
      " [ 0.05 -1.1   0.95]\n",
      " [-1.44  1.17 -3.06]\n",
      " [ 1.83 -1.19  1.06]\n",
      " [-0.28  1.64 -2.51]]\n",
      "Projected points: \n",
      " [[ 1.12  1.    0.  ]\n",
      " [-1.   -1.48  0.  ]\n",
      " [-2.68  1.85  0.  ]\n",
      " [-0.32 -1.2   0.  ]\n",
      " [ 0.96  0.86  0.  ]\n",
      " [-1.28  1.14  0.  ]\n",
      " [ 0.05 -1.1   0.  ]\n",
      " [-1.44  1.17  0.  ]\n",
      " [ 1.83 -1.19  0.  ]\n",
      " [-0.28  1.64  0.  ]]\n"
     ]
    }
   ],
   "source": [
    "P = np.array([0,0,0])\n",
    "N = np.array([0,0,1])\n",
    "# generate normally distributed points (mu=0, sigma=2)\n",
    "points_to_project = 2*np.random.randn(10,3)\n",
    "\n",
    "projections = get_projections(P, N, points_to_project)\n",
    "\n",
    "print('Initial points: \\n', points_to_project)\n",
    "print('Projected points: \\n', projections)"
   ]
  },
  {
   "cell_type": "markdown",
   "metadata": {},
   "source": [
    "## Visualize"
   ]
  },
  {
   "cell_type": "code",
   "execution_count": 16,
   "metadata": {},
   "outputs": [
    {
     "data": {
      "text/html": [
       "<script type=\"text/javascript\">window.PlotlyConfig = {MathJaxConfig: 'local'};</script><script type=\"text/javascript\">if (window.MathJax) {MathJax.Hub.Config({SVG: {font: \"STIX-Web\"}});}</script><script>requirejs.config({paths: { 'plotly': ['https://cdn.plot.ly/plotly-latest.min']},});if(!window._Plotly) {require(['plotly'],function(plotly) {window._Plotly=plotly;});}</script>"
      ],
      "text/vnd.plotly.v1+html": [
       "<script type=\"text/javascript\">window.PlotlyConfig = {MathJaxConfig: 'local'};</script><script type=\"text/javascript\">if (window.MathJax) {MathJax.Hub.Config({SVG: {font: \"STIX-Web\"}});}</script><script>requirejs.config({paths: { 'plotly': ['https://cdn.plot.ly/plotly-latest.min']},});if(!window._Plotly) {require(['plotly'],function(plotly) {window._Plotly=plotly;});}</script>"
      ]
     },
     "metadata": {},
     "output_type": "display_data"
    }
   ],
   "source": [
    "import numpy as np\n",
    "from plotly.offline import init_notebook_mode, iplot\n",
    "import plotly.graph_objs as go\n",
    "\n",
    "init_notebook_mode(connected=True)"
   ]
  },
  {
   "cell_type": "code",
   "execution_count": 18,
   "metadata": {},
   "outputs": [
    {
     "data": {
      "application/vnd.plotly.v1+json": {
       "config": {
        "linkText": "Export to plot.ly",
        "plotlyServerURL": "https://plot.ly",
        "showLink": false
       },
       "data": [
        {
         "marker": {
          "opacity": 0.8,
          "size": 3
         },
         "mode": "markers",
         "type": "scatter3d",
         "uid": "65770825-bc43-4374-876d-440e8fa7a1b2",
         "x": [
          1.1249335343964877,
          -0.9962105001075308,
          -2.681483224449884,
          -0.320441181457428,
          0.9592598401181269,
          -1.2825654894459757,
          0.05073407086962316,
          -1.4449647642334134,
          1.833367549595289,
          -0.2821339675631357
         ],
         "y": [
          1.0043579201513364,
          -1.4805422508561898,
          1.8493628379054834,
          -1.203274835032144,
          0.8590845574238429,
          1.1440063838968144,
          -1.0973080510501263,
          1.1673147523921668,
          -1.1927993607287128,
          1.6404283730380411
         ],
         "z": [
          -1.2091354821015872,
          -3.0092567915576782,
          1.273391459800866,
          -1.4699782158673615,
          2.306098402117522,
          0.42948241966434775,
          0.9458608488920458,
          -3.0600874798544258,
          1.0568226315871039,
          -2.5087161506542337
         ]
        },
        {
         "marker": {
          "color": "green",
          "opacity": 0.8,
          "size": 3
         },
         "mode": "markers",
         "type": "scatter3d",
         "uid": "1a05cc3d-e2b8-4b40-960b-a505bf181e1f",
         "x": [
          1.1249335343964877,
          -0.9962105001075308,
          -2.681483224449884,
          -0.320441181457428,
          0.9592598401181269,
          -1.2825654894459757,
          0.05073407086962316,
          -1.4449647642334134,
          1.833367549595289,
          -0.2821339675631357
         ],
         "y": [
          1.0043579201513364,
          -1.4805422508561898,
          1.8493628379054834,
          -1.203274835032144,
          0.8590845574238429,
          1.1440063838968144,
          -1.0973080510501263,
          1.1673147523921668,
          -1.1927993607287128,
          1.6404283730380411
         ],
         "z": [
          0,
          0,
          0,
          0,
          0,
          0,
          0,
          0,
          0,
          0
         ]
        },
        {
         "color": "green",
         "opacity": 0.3,
         "type": "mesh3d",
         "uid": "b1c02daf-91e0-43b9-a9e5-810f26806f98",
         "x": [
          1.1249335343964877,
          -0.9962105001075308,
          -2.681483224449884,
          -0.320441181457428,
          0.9592598401181269,
          -1.2825654894459757,
          0.05073407086962316,
          -1.4449647642334134,
          1.833367549595289,
          -0.2821339675631357
         ],
         "y": [
          1.0043579201513364,
          -1.4805422508561898,
          1.8493628379054834,
          -1.203274835032144,
          0.8590845574238429,
          1.1440063838968144,
          -1.0973080510501263,
          1.1673147523921668,
          -1.1927993607287128,
          1.6404283730380411
         ],
         "z": [
          0,
          0,
          0,
          0,
          0,
          0,
          0,
          0,
          0,
          0
         ]
        }
       ],
       "layout": {
        "autosize": true,
        "scene": {
         "aspectmode": "auto",
         "aspectratio": {
          "x": 1.0448719675739715,
          "y": 0.7706399737353041,
          "z": 1.2418964615833827
         },
         "camera": {
          "center": {
           "x": 0,
           "y": 0,
           "z": 0
          },
          "eye": {
           "x": -0.290419781295608,
           "y": 0.16993955451802742,
           "z": 0.11118971817128051
          },
          "projection": {
           "type": "perspective"
          },
          "up": {
           "x": 0,
           "y": 0,
           "z": 1
          }
         }
        }
       }
      },
      "text/html": [
       "<div id=\"def150f6-acad-43a8-b45c-49fbaf1bc771\" style=\"height: 525px; width: 100%;\" class=\"plotly-graph-div\"></div><script type=\"text/javascript\">require([\"plotly\"], function(Plotly) { window.PLOTLYENV=window.PLOTLYENV || {};window.PLOTLYENV.BASE_URL=\"https://plot.ly\";\n",
       "if (document.getElementById(\"def150f6-acad-43a8-b45c-49fbaf1bc771\")) {\n",
       "    Plotly.newPlot(\"def150f6-acad-43a8-b45c-49fbaf1bc771\", [{\"marker\": {\"opacity\": 0.8, \"size\": 3}, \"mode\": \"markers\", \"x\": [1.1249335343964877, -0.9962105001075308, -2.681483224449884, -0.320441181457428, 0.9592598401181269, -1.2825654894459757, 0.05073407086962316, -1.4449647642334134, 1.833367549595289, -0.2821339675631357], \"y\": [1.0043579201513364, -1.4805422508561898, 1.8493628379054834, -1.203274835032144, 0.8590845574238429, 1.1440063838968144, -1.0973080510501263, 1.1673147523921668, -1.1927993607287128, 1.6404283730380411], \"z\": [-1.2091354821015872, -3.0092567915576782, 1.273391459800866, -1.4699782158673615, 2.306098402117522, 0.42948241966434775, 0.9458608488920458, -3.0600874798544258, 1.0568226315871039, -2.5087161506542337], \"type\": \"scatter3d\", \"uid\": \"65770825-bc43-4374-876d-440e8fa7a1b2\"}, {\"marker\": {\"color\": \"green\", \"opacity\": 0.8, \"size\": 3}, \"mode\": \"markers\", \"x\": [1.1249335343964877, -0.9962105001075308, -2.681483224449884, -0.320441181457428, 0.9592598401181269, -1.2825654894459757, 0.05073407086962316, -1.4449647642334134, 1.833367549595289, -0.2821339675631357], \"y\": [1.0043579201513364, -1.4805422508561898, 1.8493628379054834, -1.203274835032144, 0.8590845574238429, 1.1440063838968144, -1.0973080510501263, 1.1673147523921668, -1.1927993607287128, 1.6404283730380411], \"z\": [0.0, 0.0, 0.0, 0.0, 0.0, 0.0, 0.0, 0.0, 0.0, 0.0], \"type\": \"scatter3d\", \"uid\": \"1a05cc3d-e2b8-4b40-960b-a505bf181e1f\"}, {\"color\": \"green\", \"opacity\": 0.3, \"x\": [1.1249335343964877, -0.9962105001075308, -2.681483224449884, -0.320441181457428, 0.9592598401181269, -1.2825654894459757, 0.05073407086962316, -1.4449647642334134, 1.833367549595289, -0.2821339675631357], \"y\": [1.0043579201513364, -1.4805422508561898, 1.8493628379054834, -1.203274835032144, 0.8590845574238429, 1.1440063838968144, -1.0973080510501263, 1.1673147523921668, -1.1927993607287128, 1.6404283730380411], \"z\": [0.0, 0.0, 0.0, 0.0, 0.0, 0.0, 0.0, 0.0, 0.0, 0.0], \"type\": \"mesh3d\", \"uid\": \"b1c02daf-91e0-43b9-a9e5-810f26806f98\"}], {}, {\"showLink\": false, \"linkText\": \"Export to plot.ly\", \"plotlyServerURL\": \"https://plot.ly\"}); \n",
       "}\n",
       "});</script><script type=\"text/javascript\">window.addEventListener(\"resize\", function(){if (document.getElementById(\"def150f6-acad-43a8-b45c-49fbaf1bc771\")) {window._Plotly.Plots.resize(document.getElementById(\"def150f6-acad-43a8-b45c-49fbaf1bc771\"));};})</script>"
      ],
      "text/vnd.plotly.v1+html": [
       "<div id=\"def150f6-acad-43a8-b45c-49fbaf1bc771\" style=\"height: 525px; width: 100%;\" class=\"plotly-graph-div\"></div><script type=\"text/javascript\">require([\"plotly\"], function(Plotly) { window.PLOTLYENV=window.PLOTLYENV || {};window.PLOTLYENV.BASE_URL=\"https://plot.ly\";\n",
       "if (document.getElementById(\"def150f6-acad-43a8-b45c-49fbaf1bc771\")) {\n",
       "    Plotly.newPlot(\"def150f6-acad-43a8-b45c-49fbaf1bc771\", [{\"marker\": {\"opacity\": 0.8, \"size\": 3}, \"mode\": \"markers\", \"x\": [1.1249335343964877, -0.9962105001075308, -2.681483224449884, -0.320441181457428, 0.9592598401181269, -1.2825654894459757, 0.05073407086962316, -1.4449647642334134, 1.833367549595289, -0.2821339675631357], \"y\": [1.0043579201513364, -1.4805422508561898, 1.8493628379054834, -1.203274835032144, 0.8590845574238429, 1.1440063838968144, -1.0973080510501263, 1.1673147523921668, -1.1927993607287128, 1.6404283730380411], \"z\": [-1.2091354821015872, -3.0092567915576782, 1.273391459800866, -1.4699782158673615, 2.306098402117522, 0.42948241966434775, 0.9458608488920458, -3.0600874798544258, 1.0568226315871039, -2.5087161506542337], \"type\": \"scatter3d\", \"uid\": \"65770825-bc43-4374-876d-440e8fa7a1b2\"}, {\"marker\": {\"color\": \"green\", \"opacity\": 0.8, \"size\": 3}, \"mode\": \"markers\", \"x\": [1.1249335343964877, -0.9962105001075308, -2.681483224449884, -0.320441181457428, 0.9592598401181269, -1.2825654894459757, 0.05073407086962316, -1.4449647642334134, 1.833367549595289, -0.2821339675631357], \"y\": [1.0043579201513364, -1.4805422508561898, 1.8493628379054834, -1.203274835032144, 0.8590845574238429, 1.1440063838968144, -1.0973080510501263, 1.1673147523921668, -1.1927993607287128, 1.6404283730380411], \"z\": [0.0, 0.0, 0.0, 0.0, 0.0, 0.0, 0.0, 0.0, 0.0, 0.0], \"type\": \"scatter3d\", \"uid\": \"1a05cc3d-e2b8-4b40-960b-a505bf181e1f\"}, {\"color\": \"green\", \"opacity\": 0.3, \"x\": [1.1249335343964877, -0.9962105001075308, -2.681483224449884, -0.320441181457428, 0.9592598401181269, -1.2825654894459757, 0.05073407086962316, -1.4449647642334134, 1.833367549595289, -0.2821339675631357], \"y\": [1.0043579201513364, -1.4805422508561898, 1.8493628379054834, -1.203274835032144, 0.8590845574238429, 1.1440063838968144, -1.0973080510501263, 1.1673147523921668, -1.1927993607287128, 1.6404283730380411], \"z\": [0.0, 0.0, 0.0, 0.0, 0.0, 0.0, 0.0, 0.0, 0.0, 0.0], \"type\": \"mesh3d\", \"uid\": \"b1c02daf-91e0-43b9-a9e5-810f26806f98\"}], {}, {\"showLink\": false, \"linkText\": \"Export to plot.ly\", \"plotlyServerURL\": \"https://plot.ly\"}); \n",
       "}\n",
       "});</script><script type=\"text/javascript\">window.addEventListener(\"resize\", function(){if (document.getElementById(\"def150f6-acad-43a8-b45c-49fbaf1bc771\")) {window._Plotly.Plots.resize(document.getElementById(\"def150f6-acad-43a8-b45c-49fbaf1bc771\"));};})</script>"
      ]
     },
     "metadata": {},
     "output_type": "display_data"
    }
   ],
   "source": [
    "trace_init_points = go.Scatter3d(\n",
    "    x=points_to_project[:,0],\n",
    "    y=points_to_project[:,1],\n",
    "    z=points_to_project[:,2],\n",
    "    mode='markers',\n",
    "    marker=dict(\n",
    "        size=3,\n",
    "        opacity=0.8\n",
    "    )\n",
    ")\n",
    "\n",
    "trace_projections = go.Scatter3d(\n",
    "     x=projections[:,0],\n",
    "     y=projections[:,1],\n",
    "     z=projections[:,2],\n",
    "     mode='markers',\n",
    "     marker=dict(\n",
    "         size=3,\n",
    "         opacity=0.8,\n",
    "         color='green'\n",
    "     )\n",
    ")\n",
    "\n",
    "trace_plane = go.Mesh3d(\n",
    "    x = projections[:,0],\n",
    "    y = projections[:,1],\n",
    "    z = projections[:,2],\n",
    "    color = 'green',\n",
    "    opacity= 0.3,\n",
    ")\n",
    "\n",
    "data = [trace_init_points, trace_projections, trace_plane]\n",
    "fig = go.Figure(data=data)\n",
    "iplot(fig)"
   ]
  }
 ],
 "metadata": {
  "kernelspec": {
   "display_name": "Python 3",
   "language": "python",
   "name": "python3"
  },
  "language_info": {
   "codemirror_mode": {
    "name": "ipython",
    "version": 3
   },
   "file_extension": ".py",
   "mimetype": "text/x-python",
   "name": "python",
   "nbconvert_exporter": "python",
   "pygments_lexer": "ipython3",
   "version": "3.6.5"
  }
 },
 "nbformat": 4,
 "nbformat_minor": 2
}
